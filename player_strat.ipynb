{
 "metadata": {
  "language_info": {
   "codemirror_mode": {
    "name": "ipython",
    "version": 3
   },
   "file_extension": ".py",
   "mimetype": "text/x-python",
   "name": "python",
   "nbconvert_exporter": "python",
   "pygments_lexer": "ipython3",
   "version": "3.8.5"
  },
  "orig_nbformat": 2,
  "kernelspec": {
   "name": "python385jvsc74a57bd031f2aee4e71d21fbe5cf8b01ff0e069b9275f58929596ceb00d14d90e3e16cd6",
   "display_name": "Python 3.8.5 64-bit"
  },
  "metadata": {
   "interpreter": {
    "hash": "31f2aee4e71d21fbe5cf8b01ff0e069b9275f58929596ceb00d14d90e3e16cd6"
   }
  }
 },
 "nbformat": 4,
 "nbformat_minor": 2,
 "cells": [
  {
   "cell_type": "code",
   "execution_count": 4,
   "metadata": {},
   "outputs": [],
   "source": [
    "import main"
   ]
  },
  {
   "cell_type": "code",
   "execution_count": 5,
   "metadata": {},
   "outputs": [],
   "source": [
    "import pandas as pd"
   ]
  },
  {
   "cell_type": "code",
   "execution_count": 8,
   "metadata": {},
   "outputs": [
    {
     "output_type": "stream",
     "name": "stdout",
     "text": [
      "        Name of the PLayer             Username  Bullet Rating  Blitz Rating  \\\n0           Gregory Paul T              Greg512           1182          1238   \n1          Godwin Joseph P        Godwin_Joseph           1500          1495   \n2             Kundan Kumar          Neophyte_KK           1500          1447   \n3             Gautham Giri               GG1711           1188          1179   \n4                 Raj Goel           RajGoel248           1390          1479   \n5             Joel Jeffrey         Joel_Jeffrey           1778          1601   \n6            Akshay Mahida               axay77           1323          1448   \n7        Anish Bhagavatula        BossLogic_314           1500          1791   \n8              Harsh Dubey           harshdubey           1648          1294   \n9          Sanjay Barath G    Sneaky_Knight1600           1500          1312   \n10                 Vinay I           vinayingle           1500          1302   \n11              Neel Kabra            kabraneel           1292          1297   \n12             M. Preetham            preeetham           1289          1571   \n13             Vyshnav T K           Vys6nav_TK           1313          1418   \n14             Jayasurya R           metalballs           1181          1273   \n15         Priyanshu Gupta  Priyanshu_112001033           1500          1289   \n16       Muhammed Nihal.PP           Nihalpp555            958          1246   \n17               Manikanta            Mani96666           1500          1015   \n18  Abhishek Singh Solanki          abhishek_b2           1276          1129   \n19        Aradhya Bijalwan               Arantx            989          1361   \n20            Sughandhan S     Batman_Beyond123           1500          1072   \n21          Gaurav Kandpal           gaurav2802           1226          1618   \n22          Arjun Olachery            arjun1112           1500          1500   \n23  G Harsha Vardhan Reddy            harsha642           1026          1088   \n24              Ajay Kumar            Ajay26961           1239          1500   \n25          D Sai Rishitha               Rysyta           1107           832   \n26             Akash Singh           Akash_2146           1091          1126   \n27  Gopikrishna Prabhu P D   Gopikrishna_Prabhu           1500          1186   \n28        Yerra nitin goud          nitingoud59           1500           859   \n29               Akhil M V        Quicksilver73           1324          1500   \n30             Abraham Aby      abrahamaby93_20           1354          1389   \n31              Anurag Jha           ANURAG_JHA           1645           947   \n32             ARUN SANKAR        ArunSankar_18           1230          1287   \n33             Vikas Saini               vi_kas           1500          1695   \n34                aaryuman             aaryuman           1500          1500   \n35           Saransh Kumar        SARANSH_JAWLA           1160          1433   \n36          Ravi Chaudhary              CARN0TX           1500           833   \n37      Sayandip Chaudhuri            Drakebell           1576          1801   \n38               Rithwik P             rithwikp           1262          1293   \n39            Ankur Sharma           ankur01xyz           1500          1500   \n40    Banala Sai Manikanta               BSM137           1500          1500   \n41              NABIN BORO                 NDK1           1559          1727   \n42           Sreejith Siju            sreejiths           1260          1272   \n43            Thoufeer K K         Thoufeer_k_k           1500          1500   \n44             Atul Tiwari       tiwari_is_kira           1485          1421   \n45           Sujit Mandava           lazy_sushi           1500          1429   \n46           Gourav Nishad       gourav_agent47           1353          1291   \n47                 Mandeep              Mandy30           1500          1024   \n48               Sandhya K           jus_playin           1500          1500   \n\n    Rapid Rating  Classical Rating  \n0           1620              1318  \n1           1500              1500  \n2           1500              1500  \n3           1543              1500  \n4           1280              1227  \n5           1500              1500  \n6           1661              1500  \n7           1500              1500  \n8           1412              1500  \n9           1765              1500  \n10          1307              1500  \n11          1500              1500  \n12          1500              1500  \n13          1880              1555  \n14          1591              1500  \n15          1432              1340  \n16          1429              1500  \n17          1296              1500  \n18          1544              1500  \n19          1568              1500  \n20          1500              1500  \n21          1871              1563  \n22          1500              1500  \n23          1175              1349  \n24          1500              1500  \n25          1205              1307  \n26          1077              1500  \n27          1500              1500  \n28          1222              1040  \n29          1500              1500  \n30          1834              1515  \n31          1500              1500  \n32          1616              1255  \n33          1500              1500  \n34          1500              1500  \n35          1605              1648  \n36          1500              1500  \n37          2228              1500  \n38          1608              1500  \n39          1500              1500  \n40          1500              1500  \n41          1794              1500  \n42          1661              1500  \n43          1500              1500  \n44          1437              1500  \n45          1500              1500  \n46          1500              1500  \n47           879              1500  \n48          1685              1500  \n"
     ]
    }
   ],
   "source": [
    "df =  pd.read_csv(\"players_out.csv\")\n",
    "print(df)"
   ]
  },
  {
   "cell_type": "code",
   "execution_count": 13,
   "metadata": {},
   "outputs": [],
   "source": [
    "sorted_df = df.sort_values(by=['Rapid Rating'], ascending=False)"
   ]
  },
  {
   "cell_type": "code",
   "execution_count": 19,
   "metadata": {},
   "outputs": [],
   "source": [
    "sorted_df.to_csv('file.csv', index=False)"
   ]
  }
 ]
}